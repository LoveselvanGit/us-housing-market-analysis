{
 "cells": [
  {
   "cell_type": "markdown",
   "id": "17268f09-95c4-408d-bbe3-8f889d96f168",
   "metadata": {},
   "source": [
    "NAME : ANBUSELVAN MAHALINGAM\n",
    "\n",
    "SUBJECT : DSC 630 PREDICTIVE ANALYSIS - WEEK 10 ASSIGNMENT"
   ]
  },
  {
   "cell_type": "code",
   "execution_count": 46,
   "id": "cf4963a9-b787-40b8-999f-4b8912d00a73",
   "metadata": {},
   "outputs": [],
   "source": [
    "# To supress the warning.\n",
    "import warnings\n",
    "warnings.filterwarnings('ignore')"
   ]
  },
  {
   "cell_type": "code",
   "execution_count": 47,
   "id": "b0ffa158-c240-4f9b-8dad-f0ded4824d2e",
   "metadata": {},
   "outputs": [],
   "source": [
    "# To Load the File into dataframe\n",
    "import pandas as pd\n",
    "def readfile(fileName):\n",
    "    try:\n",
    "        df = pd.read_csv(fileName)\n",
    "        return df\n",
    "    except:\n",
    "        print(r'Unable to read the file. Validate the file d try again.!')"
   ]
  },
  {
   "cell_type": "code",
   "execution_count": 48,
   "id": "33d2b22c-f8a1-4e35-bed8-c860c024ace3",
   "metadata": {},
   "outputs": [],
   "source": [
    "#To read the Movies dataset\n",
    "movies_df = readfile(\"ml-latest-small/movies.csv\")\n",
    "\n",
    "#To read the Links dataset\n",
    "links_df = readfile(\"ml-latest-small/links.csv\")\n",
    "\n",
    "#To read the Ratings dataset\n",
    "ratings_df = readfile(\"ml-latest-small/ratings.csv\")\n",
    "\n",
    "#To read the Tags dataset\n",
    "tags_df = readfile(\"ml-latest-small/tags.csv\")\n"
   ]
  },
  {
   "cell_type": "code",
   "execution_count": 49,
   "id": "c04a5717-1213-4078-99ff-cb7b2005b125",
   "metadata": {},
   "outputs": [
    {
     "name": "stdout",
     "output_type": "stream",
     "text": [
      "<class 'pandas.core.frame.DataFrame'>\n",
      "RangeIndex: 9742 entries, 0 to 9741\n",
      "Data columns (total 3 columns):\n",
      " #   Column   Non-Null Count  Dtype \n",
      "---  ------   --------------  ----- \n",
      " 0   movieId  9742 non-null   int64 \n",
      " 1   title    9742 non-null   object\n",
      " 2   genres   9742 non-null   object\n",
      "dtypes: int64(1), object(2)\n",
      "memory usage: 228.5+ KB\n",
      "None\n",
      "             movieId\n",
      "count    9742.000000\n",
      "mean    42200.353623\n",
      "std     52160.494854\n",
      "min         1.000000\n",
      "25%      3248.250000\n",
      "50%      7300.000000\n",
      "75%     76232.000000\n",
      "max    193609.000000\n",
      "   movieId             title                                       genres\n",
      "0        1  Toy Story (1995)  Adventure|Animation|Children|Comedy|Fantasy\n",
      "1        2    Jumanji (1995)                   Adventure|Children|Fantasy\n"
     ]
    }
   ],
   "source": [
    "# EDA - To understand more about the dataset\n",
    "print(movies_df.info())\n",
    "print(movies_df.describe())\n",
    "print(movies_df.head(n=2))"
   ]
  },
  {
   "cell_type": "code",
   "execution_count": 50,
   "id": "b719c558-a8a4-4aa3-bed5-354da45714e0",
   "metadata": {},
   "outputs": [
    {
     "name": "stdout",
     "output_type": "stream",
     "text": [
      "<class 'pandas.core.frame.DataFrame'>\n",
      "RangeIndex: 9742 entries, 0 to 9741\n",
      "Data columns (total 3 columns):\n",
      " #   Column   Non-Null Count  Dtype  \n",
      "---  ------   --------------  -----  \n",
      " 0   movieId  9742 non-null   int64  \n",
      " 1   imdbId   9742 non-null   int64  \n",
      " 2   tmdbId   9734 non-null   float64\n",
      "dtypes: float64(1), int64(2)\n",
      "memory usage: 228.5 KB\n",
      "None\n",
      "             movieId        imdbId         tmdbId\n",
      "count    9742.000000  9.742000e+03    9734.000000\n",
      "mean    42200.353623  6.771839e+05   55162.123793\n",
      "std     52160.494854  1.107228e+06   93653.481487\n",
      "min         1.000000  4.170000e+02       2.000000\n",
      "25%      3248.250000  9.518075e+04    9665.500000\n",
      "50%      7300.000000  1.672605e+05   16529.000000\n",
      "75%     76232.000000  8.055685e+05   44205.750000\n",
      "max    193609.000000  8.391976e+06  525662.000000\n",
      "   movieId  imdbId  tmdbId\n",
      "0        1  114709   862.0\n",
      "1        2  113497  8844.0\n"
     ]
    }
   ],
   "source": [
    "# EDA - To understand more about the dataset\n",
    "print(links_df.info())\n",
    "print(links_df.describe())\n",
    "print(links_df.head(n=2))"
   ]
  },
  {
   "cell_type": "code",
   "execution_count": 51,
   "id": "8adef6cf-d771-4cff-887e-a501c6963779",
   "metadata": {},
   "outputs": [
    {
     "name": "stdout",
     "output_type": "stream",
     "text": [
      "<class 'pandas.core.frame.DataFrame'>\n",
      "RangeIndex: 100836 entries, 0 to 100835\n",
      "Data columns (total 4 columns):\n",
      " #   Column     Non-Null Count   Dtype  \n",
      "---  ------     --------------   -----  \n",
      " 0   userId     100836 non-null  int64  \n",
      " 1   movieId    100836 non-null  int64  \n",
      " 2   rating     100836 non-null  float64\n",
      " 3   timestamp  100836 non-null  int64  \n",
      "dtypes: float64(1), int64(3)\n",
      "memory usage: 3.1 MB\n",
      "None\n",
      "              userId        movieId         rating     timestamp\n",
      "count  100836.000000  100836.000000  100836.000000  1.008360e+05\n",
      "mean      326.127564   19435.295718       3.501557  1.205946e+09\n",
      "std       182.618491   35530.987199       1.042529  2.162610e+08\n",
      "min         1.000000       1.000000       0.500000  8.281246e+08\n",
      "25%       177.000000    1199.000000       3.000000  1.019124e+09\n",
      "50%       325.000000    2991.000000       3.500000  1.186087e+09\n",
      "75%       477.000000    8122.000000       4.000000  1.435994e+09\n",
      "max       610.000000  193609.000000       5.000000  1.537799e+09\n",
      "   userId  movieId  rating  timestamp\n",
      "0       1        1     4.0  964982703\n",
      "1       1        3     4.0  964981247\n"
     ]
    }
   ],
   "source": [
    "# EDA - To understand more about the dataset\n",
    "print(ratings_df.info())\n",
    "print(ratings_df.describe())\n",
    "print(ratings_df.head(n=2))"
   ]
  },
  {
   "cell_type": "code",
   "execution_count": 52,
   "id": "50a94a4d-6a35-4bde-87f6-c664c3e2cd82",
   "metadata": {},
   "outputs": [
    {
     "name": "stdout",
     "output_type": "stream",
     "text": [
      "<class 'pandas.core.frame.DataFrame'>\n",
      "RangeIndex: 3683 entries, 0 to 3682\n",
      "Data columns (total 4 columns):\n",
      " #   Column     Non-Null Count  Dtype \n",
      "---  ------     --------------  ----- \n",
      " 0   userId     3683 non-null   int64 \n",
      " 1   movieId    3683 non-null   int64 \n",
      " 2   tag        3683 non-null   object\n",
      " 3   timestamp  3683 non-null   int64 \n",
      "dtypes: int64(3), object(1)\n",
      "memory usage: 115.2+ KB\n",
      "None\n",
      "            userId        movieId     timestamp\n",
      "count  3683.000000    3683.000000  3.683000e+03\n",
      "mean    431.149335   27252.013576  1.320032e+09\n",
      "std     158.472553   43490.558803  1.721025e+08\n",
      "min       2.000000       1.000000  1.137179e+09\n",
      "25%     424.000000    1262.500000  1.137521e+09\n",
      "50%     474.000000    4454.000000  1.269833e+09\n",
      "75%     477.000000   39263.000000  1.498457e+09\n",
      "max     610.000000  193565.000000  1.537099e+09\n",
      "   userId  movieId              tag   timestamp\n",
      "0       2    60756            funny  1445714994\n",
      "1       2    60756  Highly quotable  1445714996\n"
     ]
    }
   ],
   "source": [
    "# EDA - To understand more about the dataset\n",
    "print(tags_df.info())\n",
    "print(tags_df.describe())\n",
    "print(tags_df.head(n=2))"
   ]
  },
  {
   "cell_type": "code",
   "execution_count": 53,
   "id": "9f1b04b7-d8d6-4db6-af90-479da3f71bd9",
   "metadata": {},
   "outputs": [],
   "source": [
    "# Merge the 4 dataframes into one dataframe\n",
    "\n",
    "# To merge movies_df with links_df on movieId\n",
    "movies_links_df = pd.merge(movies_df, links_df, \n",
    "                           on='movieId')\n",
    "\n",
    "# to merge the resulting DataFrame with ratings_df on movieId\n",
    "movies_links_ratings_df = pd.merge(movies_links_df, \n",
    "                                   ratings_df, on='movieId')\n",
    "\n",
    "# to merge the resulting DataFrame with tags_df on movieId and userId\n",
    "full_movie_rating_df = pd.merge(movies_links_ratings_df, tags_df, \n",
    "                   on=['movieId', 'userId'], how='left')"
   ]
  },
  {
   "cell_type": "code",
   "execution_count": 54,
   "id": "c86c53c1-01fa-4291-b7be-ca33f8214e2c",
   "metadata": {},
   "outputs": [
    {
     "name": "stdout",
     "output_type": "stream",
     "text": [
      "<class 'pandas.core.frame.DataFrame'>\n",
      "RangeIndex: 102677 entries, 0 to 102676\n",
      "Data columns (total 10 columns):\n",
      " #   Column       Non-Null Count   Dtype  \n",
      "---  ------       --------------   -----  \n",
      " 0   movieId      102677 non-null  int64  \n",
      " 1   title        102677 non-null  object \n",
      " 2   genres       102677 non-null  object \n",
      " 3   imdbId       102677 non-null  int64  \n",
      " 4   tmdbId       102664 non-null  float64\n",
      " 5   userId       102677 non-null  int64  \n",
      " 6   rating       102677 non-null  float64\n",
      " 7   timestamp_x  102677 non-null  int64  \n",
      " 8   tag          3476 non-null    object \n",
      " 9   timestamp_y  3476 non-null    float64\n",
      "dtypes: float64(3), int64(4), object(3)\n",
      "memory usage: 7.8+ MB\n"
     ]
    }
   ],
   "source": [
    "full_movie_rating_df.info()"
   ]
  },
  {
   "cell_type": "code",
   "execution_count": 55,
   "id": "27de2116-a962-4235-8ff3-6787209a1ed0",
   "metadata": {},
   "outputs": [],
   "source": [
    "# To drop unnecessary columns\n",
    "movie_data_cleaned = full_movie_rating_df.drop(columns=['timestamp_x', 'timestamp_y', 'imdbId', 'tmdbId', 'tag'])"
   ]
  },
  {
   "cell_type": "markdown",
   "id": "bc54bd3d-4d33-441c-b650-5bad4d526314",
   "metadata": {},
   "source": [
    "The columns 'timestamp_x', 'timestamp_y', 'imdbId', 'tmdbId', 'tag' are not needed for our analytical purpose and not required for the recommendation system design."
   ]
  },
  {
   "cell_type": "code",
   "execution_count": 56,
   "id": "d44a6478-c9ce-4c1b-8c60-b378e2ea873c",
   "metadata": {},
   "outputs": [],
   "source": [
    "# To calculate average ratings and total count of ratings for each movie\n",
    "average_ratings = pd.DataFrame(data_cleaned.groupby('title')['rating'].mean())\n",
    "average_ratings['Total Ratings'] = data_cleaned.groupby('title')['rating'].count()"
   ]
  },
  {
   "cell_type": "code",
   "execution_count": 86,
   "id": "991c3392-3cca-4956-a9f6-e6583f62a2ed",
   "metadata": {},
   "outputs": [
    {
     "data": {
      "text/html": [
       "<div>\n",
       "<style scoped>\n",
       "    .dataframe tbody tr th:only-of-type {\n",
       "        vertical-align: middle;\n",
       "    }\n",
       "\n",
       "    .dataframe tbody tr th {\n",
       "        vertical-align: top;\n",
       "    }\n",
       "\n",
       "    .dataframe thead th {\n",
       "        text-align: right;\n",
       "    }\n",
       "</style>\n",
       "<table border=\"1\" class=\"dataframe\">\n",
       "  <thead>\n",
       "    <tr style=\"text-align: right;\">\n",
       "      <th></th>\n",
       "      <th>movieId</th>\n",
       "      <th>title</th>\n",
       "      <th>genres</th>\n",
       "      <th>userId</th>\n",
       "      <th>rating</th>\n",
       "    </tr>\n",
       "  </thead>\n",
       "  <tbody>\n",
       "    <tr>\n",
       "      <th>0</th>\n",
       "      <td>1</td>\n",
       "      <td>Toy Story (1995)</td>\n",
       "      <td>Adventure|Animation|Children|Comedy|Fantasy</td>\n",
       "      <td>1</td>\n",
       "      <td>4.0</td>\n",
       "    </tr>\n",
       "    <tr>\n",
       "      <th>1</th>\n",
       "      <td>1</td>\n",
       "      <td>Toy Story (1995)</td>\n",
       "      <td>Adventure|Animation|Children|Comedy|Fantasy</td>\n",
       "      <td>5</td>\n",
       "      <td>4.0</td>\n",
       "    </tr>\n",
       "    <tr>\n",
       "      <th>2</th>\n",
       "      <td>1</td>\n",
       "      <td>Toy Story (1995)</td>\n",
       "      <td>Adventure|Animation|Children|Comedy|Fantasy</td>\n",
       "      <td>7</td>\n",
       "      <td>4.5</td>\n",
       "    </tr>\n",
       "  </tbody>\n",
       "</table>\n",
       "</div>"
      ],
      "text/plain": [
       "   movieId             title                                       genres  \\\n",
       "0        1  Toy Story (1995)  Adventure|Animation|Children|Comedy|Fantasy   \n",
       "1        1  Toy Story (1995)  Adventure|Animation|Children|Comedy|Fantasy   \n",
       "2        1  Toy Story (1995)  Adventure|Animation|Children|Comedy|Fantasy   \n",
       "\n",
       "   userId  rating  \n",
       "0       1     4.0  \n",
       "1       5     4.0  \n",
       "2       7     4.5  "
      ]
     },
     "execution_count": 86,
     "metadata": {},
     "output_type": "execute_result"
    }
   ],
   "source": [
    "# display the first few rows of the merged DataFrame\n",
    "movie_data_cleaned.head(n=3)"
   ]
  },
  {
   "cell_type": "code",
   "execution_count": 87,
   "id": "7c3a3562-4c3c-41a3-8483-f53067d4920d",
   "metadata": {},
   "outputs": [],
   "source": [
    "# To create User-Item Matrix\n",
    "movie_user = data_cleaned.pivot_table(index='userId',columns='title',values='rating')"
   ]
  },
  {
   "cell_type": "code",
   "execution_count": 88,
   "id": "1699164c-f324-46a2-ad6b-6fef7828ff8c",
   "metadata": {},
   "outputs": [
    {
     "data": {
      "text/plain": [
       "title\n",
       "'71 (2014)                                      NaN\n",
       "'Hellboy': The Seeds of Creation (2004)         NaN\n",
       "'Round Midnight (1986)                          NaN\n",
       "'Salem's Lot (2004)                             NaN\n",
       "'Til There Was You (1997)                       NaN\n",
       "'Tis the Season for Love (2015)                 NaN\n",
       "'burbs, The (1989)                         0.240563\n",
       "'night Mother (1986)                            NaN\n",
       "(500) Days of Summer (2009)                0.353833\n",
       "*batteries not included (1987)            -0.427425\n",
       "dtype: float64"
      ]
     },
     "execution_count": 88,
     "metadata": {},
     "output_type": "execute_result"
    }
   ],
   "source": [
    "# To find the correlation value for the movie with all other movies\n",
    "correlations = movie_user.corrwith(movie_user['Toy Story (1995)'])\n",
    "correlations.head(n=10)"
   ]
  },
  {
   "cell_type": "code",
   "execution_count": 95,
   "id": "624b2684-7f75-49c3-8eae-0c8617d11d6d",
   "metadata": {},
   "outputs": [],
   "source": [
    "# Reusable - user defined function\n",
    "\n",
    "def get_movie_recommendations(movie_title, user_item_matrix, average_ratings, min_ratings=100):\n",
    "    \n",
    "    # To calculates correlations between the target movie and all other movies\n",
    "    correlations = user_item_matrix.corrwith(user_item_matrix[movie_title])\n",
    "    \n",
    "    # To create new Data frame with recommendation based on correlation\n",
    "    recommendation = pd.DataFrame(correlations, columns=['Correlation']).dropna()\n",
    "\n",
    "    # Joins the dataFrame with total number of ratings for each movie\n",
    "    recommendation = recommendation.join(average_ratings['Total Ratings'])\n",
    "\n",
    "    # To Filter movies with good ratings\n",
    "    recommendation = recommendation[recommendation['Total Ratings'] > min_ratings]\n",
    "\n",
    "    # To sort movies by their correlation and return to 10 movies.\n",
    "    return recommendation.sort_values('Correlation', ascending=False).head(10)\n"
   ]
  },
  {
   "cell_type": "code",
   "execution_count": 100,
   "id": "bc9b76b1-5e5b-4d17-b4f2-856a1a000158",
   "metadata": {},
   "outputs": [],
   "source": [
    "# Reusable - user defined function, To get User input\n",
    "def recommend_movies(movie_title):\n",
    "    try:\n",
    "        recommendations = get_movie_recommendations(movie_title,\n",
    "                                                    user_item_matrix,\n",
    "                                                    average_ratings)\n",
    "        print(f\"Top 10 recommendations for '{movie_title}':\")\n",
    "        for idx, row in recommendations.iterrows():\n",
    "             print(f\"Movie: {idx}, Correlation: {row['Correlation']:.3f},\n",
    "             Total Ratings: {row['Total Ratings']}\")\n",
    "    except KeyError:\n",
    "        print(f\"Sorry, the movie '{movie_title}' is not found in the dataset.\")"
   ]
  },
  {
   "cell_type": "code",
   "execution_count": 101,
   "id": "6a7d2fcb-948d-4fe1-9225-e472767549b0",
   "metadata": {},
   "outputs": [
    {
     "name": "stdout",
     "output_type": "stream",
     "text": [
      "Top 10 recommendations for 'Toy Story (1995)':\n",
      "Movie: Toy Story (1995), Correlation: 1.000, Total Ratings: 215.0\n",
      "Movie: Toy Story 2 (1999), Correlation: 0.699, Total Ratings: 103.0\n",
      "Movie: Incredibles, The (2004), Correlation: 0.643, Total Ratings: 127.0\n",
      "Movie: Finding Nemo (2003), Correlation: 0.619, Total Ratings: 142.0\n",
      "Movie: Aladdin (1992), Correlation: 0.612, Total Ratings: 183.0\n",
      "Movie: Monsters, Inc. (2001), Correlation: 0.490, Total Ratings: 132.0\n",
      "Movie: Mrs. Doubtfire (1993), Correlation: 0.446, Total Ratings: 146.0\n",
      "Movie: Amelie (Fabuleux destin d'Amélie Poulain, Le) (2001), Correlation: 0.438, Total Ratings: 120.0\n",
      "Movie: American Pie (1999), Correlation: 0.420, Total Ratings: 103.0\n",
      "Movie: Die Hard: With a Vengeance (1995), Correlation: 0.411, Total Ratings: 144.0\n"
     ]
    }
   ],
   "source": [
    "# To the Recommended movies - Validation\n",
    "user_movie = \"Toy Story (1995)\"\n",
    "recommend_movies(user_movie)"
   ]
  },
  {
   "cell_type": "code",
   "execution_count": 98,
   "id": "7637df04-118d-4459-aede-20ac36ea30b6",
   "metadata": {},
   "outputs": [
    {
     "name": "stdout",
     "output_type": "stream",
     "text": [
      "Sorry, the movie 'Star wars' is not found in the dataset.\n"
     ]
    }
   ],
   "source": [
    "# To the Recommended movies, validation\n",
    "user_movie = \"Star wars\"\n",
    "recommend_movies(user_movie)"
   ]
  },
  {
   "cell_type": "markdown",
   "id": "68bba30c-fb2e-4b7f-99d6-469f0e9cf75e",
   "metadata": {},
   "source": [
    "Summary of the Approach\n",
    "\n",
    "    Load datasets - Read each datasets and merge them into a single dataFrame, remove unwanted elements from the dataset\n",
    "    Feature Engineering - Compute average ratings and the total number of ratings for each movie.\n",
    "    Collaborative Filtering User-Item Matrix - Pivot the data to form a matrix of user ratings for each movie.\n",
    "    Correlations calculation: Calculate similarities between the target movie and all other movies using correlation.\n",
    "    Generate Recommendations: Filter and sort movies based on correlation and display the top 10 recommendations.\n",
    "\n",
    "    Process: Here we have created a collaborative filtering-based recommender system, focusing on calculating movie similarities using correlation and recommending movies based on the corelations. The user-item matrix and the calculation of correlations helps us to generate movie recommendations.\n",
    "\n",
    "    Reference : Recommender System Using Python & MovieLens - https://analyticsindiamag.com/how-to-build-your-first-recommender-system-using-python-movielens-dataset/\n",
    "    "
   ]
  }
 ],
 "metadata": {
  "kernelspec": {
   "display_name": "Python 3 (ipykernel)",
   "language": "python",
   "name": "python3"
  },
  "language_info": {
   "codemirror_mode": {
    "name": "ipython",
    "version": 3
   },
   "file_extension": ".py",
   "mimetype": "text/x-python",
   "name": "python",
   "nbconvert_exporter": "python",
   "pygments_lexer": "ipython3",
   "version": "3.11.7"
  }
 },
 "nbformat": 4,
 "nbformat_minor": 5
}
